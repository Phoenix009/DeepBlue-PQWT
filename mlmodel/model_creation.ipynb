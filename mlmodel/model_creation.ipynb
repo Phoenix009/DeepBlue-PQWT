{
 "cells": [
  {
   "cell_type": "code",
   "execution_count": 1,
   "metadata": {},
   "outputs": [],
   "source": [
    "from river import datasets\n",
    "from river import metrics\n",
    "from river import linear_model\n",
    "from river import compose\n",
    "from river import preprocessing\n",
    "import pickle\n",
    "import pandas as pd\n",
    "from river import stream"
   ]
  },
  {
   "cell_type": "code",
   "execution_count": 2,
   "metadata": {},
   "outputs": [],
   "source": [
    "model = compose.Pipeline(\n",
    "    preprocessing.StandardScaler(),\n",
    "    linear_model.LinearRegression()\n",
    ")"
   ]
  },
  {
   "cell_type": "code",
   "execution_count": 41,
   "metadata": {},
   "outputs": [],
   "source": [
    "df = pd.read_csv('training.csv')\n",
    "df.head()\n",
    "df.drop('Unnamed: 0', axis=1, inplace=True)\n",
    "df['actual_arrival_time'] %= 24*60 "
   ]
  },
  {
   "cell_type": "code",
   "execution_count": 42,
   "metadata": {},
   "outputs": [
    {
     "data": {
      "text/html": [
       "<div>\n",
       "<style scoped>\n",
       "    .dataframe tbody tr th:only-of-type {\n",
       "        vertical-align: middle;\n",
       "    }\n",
       "\n",
       "    .dataframe tbody tr th {\n",
       "        vertical-align: top;\n",
       "    }\n",
       "\n",
       "    .dataframe thead th {\n",
       "        text-align: right;\n",
       "    }\n",
       "</style>\n",
       "<table border=\"1\" class=\"dataframe\">\n",
       "  <thead>\n",
       "    <tr style=\"text-align: right;\">\n",
       "      <th></th>\n",
       "      <th>age</th>\n",
       "      <th>gender</th>\n",
       "      <th>actual_arrival_time</th>\n",
       "      <th>wait_time</th>\n",
       "      <th>position</th>\n",
       "    </tr>\n",
       "  </thead>\n",
       "  <tbody>\n",
       "    <tr>\n",
       "      <th>495</th>\n",
       "      <td>48.210253</td>\n",
       "      <td>1</td>\n",
       "      <td>554.203038</td>\n",
       "      <td>32.894102</td>\n",
       "      <td>4</td>\n",
       "    </tr>\n",
       "    <tr>\n",
       "      <th>496</th>\n",
       "      <td>34.790297</td>\n",
       "      <td>2</td>\n",
       "      <td>563.319157</td>\n",
       "      <td>37.141059</td>\n",
       "      <td>4</td>\n",
       "    </tr>\n",
       "    <tr>\n",
       "      <th>497</th>\n",
       "      <td>45.285076</td>\n",
       "      <td>1</td>\n",
       "      <td>576.633187</td>\n",
       "      <td>33.164118</td>\n",
       "      <td>3</td>\n",
       "    </tr>\n",
       "    <tr>\n",
       "      <th>498</th>\n",
       "      <td>35.583954</td>\n",
       "      <td>1</td>\n",
       "      <td>586.066769</td>\n",
       "      <td>36.216059</td>\n",
       "      <td>4</td>\n",
       "    </tr>\n",
       "    <tr>\n",
       "      <th>499</th>\n",
       "      <td>52.953369</td>\n",
       "      <td>2</td>\n",
       "      <td>602.448116</td>\n",
       "      <td>29.409897</td>\n",
       "      <td>3</td>\n",
       "    </tr>\n",
       "  </tbody>\n",
       "</table>\n",
       "</div>"
      ],
      "text/plain": [
       "           age  gender  actual_arrival_time  wait_time  position\n",
       "495  48.210253       1           554.203038  32.894102         4\n",
       "496  34.790297       2           563.319157  37.141059         4\n",
       "497  45.285076       1           576.633187  33.164118         3\n",
       "498  35.583954       1           586.066769  36.216059         4\n",
       "499  52.953369       2           602.448116  29.409897         3"
      ]
     },
     "execution_count": 42,
     "metadata": {},
     "output_type": "execute_result"
    }
   ],
   "source": [
    "df.tail()"
   ]
  },
  {
   "cell_type": "code",
   "execution_count": 43,
   "metadata": {},
   "outputs": [],
   "source": [
    "def get_samples(df):\n",
    "    for i in range(len(df)):\n",
    "        x = {\n",
    "            'age': int(df.iloc[i]['age']),\n",
    "            'gender': int(df.iloc[i]['gender']),\n",
    "            'actual_arrival_time': float(df.iloc[i]['actual_arrival_time']),\n",
    "            'position': int(df.iloc[i]['position']),\n",
    "        }\n",
    "        y = df.iloc[i]['wait_time']\n",
    "        yield x, y"
   ]
  },
  {
   "cell_type": "code",
   "execution_count": 45,
   "metadata": {},
   "outputs": [
    {
     "data": {
      "text/plain": [
       "Accuracy: 0.00%"
      ]
     },
     "execution_count": 45,
     "metadata": {},
     "output_type": "execute_result"
    }
   ],
   "source": [
    "metric = metrics.Accuracy()\n",
    "\n",
    "for x, y in get_samples(df):\n",
    "    y_pred = model.predict_one(x)\n",
    "    model.learn_one(x, y)\n",
    "    metric.update(y, y_pred)\n",
    " \n",
    "metric"
   ]
  },
  {
   "cell_type": "code",
   "execution_count": 46,
   "metadata": {},
   "outputs": [],
   "source": [
    "with open('model.sav', 'wb') as fh:\n",
    "        pickle.dump(model, fh)"
   ]
  },
  {
   "cell_type": "code",
   "execution_count": 47,
   "metadata": {},
   "outputs": [],
   "source": [
    "pickle_off = open (\"model.sav\", \"rb\")\n",
    "model = pickle.load(pickle_off)"
   ]
  },
  {
   "cell_type": "code",
   "execution_count": 48,
   "metadata": {},
   "outputs": [],
   "source": [
    "x = {'age': 34, 'actual_arrival_time': 0, 'position': 2, 'gender': 1}"
   ]
  },
  {
   "cell_type": "code",
   "execution_count": 49,
   "metadata": {},
   "outputs": [
    {
     "data": {
      "text/plain": [
       "21.36871686404183"
      ]
     },
     "execution_count": 49,
     "metadata": {},
     "output_type": "execute_result"
    }
   ],
   "source": [
    "model.predict_one(x)"
   ]
  },
  {
   "cell_type": "code",
   "execution_count": null,
   "metadata": {},
   "outputs": [],
   "source": []
  }
 ],
 "metadata": {
  "kernelspec": {
   "display_name": "Python 3",
   "language": "python",
   "name": "python3"
  },
  "language_info": {
   "codemirror_mode": {
    "name": "ipython",
    "version": 3
   },
   "file_extension": ".py",
   "mimetype": "text/x-python",
   "name": "python",
   "nbconvert_exporter": "python",
   "pygments_lexer": "ipython3",
   "version": "3.8.3"
  }
 },
 "nbformat": 4,
 "nbformat_minor": 4
}
