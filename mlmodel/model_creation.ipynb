{
 "cells": [
  {
   "cell_type": "code",
   "execution_count": 1,
   "metadata": {},
   "outputs": [],
   "source": [
    "from river import datasets\n",
    "from river import metrics\n",
    "from river import linear_model\n",
    "from river import compose\n",
    "from river import preprocessing\n",
    "import pickle\n",
    "import pandas as pd\n",
    "from river import stream"
   ]
  },
  {
   "cell_type": "code",
   "execution_count": 2,
   "metadata": {},
   "outputs": [],
   "source": [
    "model = compose.Pipeline(\n",
    "    preprocessing.StandardScaler(),\n",
    "    linear_model.LinearRegression()\n",
    ")"
   ]
  },
  {
   "cell_type": "code",
   "execution_count": 3,
   "metadata": {},
   "outputs": [],
   "source": [
    "df = pd.read_csv('training.csv')\n",
    "df.head()\n",
    "df.drop('Unnamed: 0', axis=1, inplace=True)\n",
    "df['actual_arrival_time'] %= 24*60 "
   ]
  },
  {
   "cell_type": "code",
   "execution_count": 4,
   "metadata": {},
   "outputs": [
    {
     "data": {
      "text/html": [
       "<div>\n",
       "<style scoped>\n",
       "    .dataframe tbody tr th:only-of-type {\n",
       "        vertical-align: middle;\n",
       "    }\n",
       "\n",
       "    .dataframe tbody tr th {\n",
       "        vertical-align: top;\n",
       "    }\n",
       "\n",
       "    .dataframe thead th {\n",
       "        text-align: right;\n",
       "    }\n",
       "</style>\n",
       "<table border=\"1\" class=\"dataframe\">\n",
       "  <thead>\n",
       "    <tr style=\"text-align: right;\">\n",
       "      <th></th>\n",
       "      <th>age</th>\n",
       "      <th>gender</th>\n",
       "      <th>actual_arrival_time</th>\n",
       "      <th>service_time</th>\n",
       "      <th>position</th>\n",
       "    </tr>\n",
       "  </thead>\n",
       "  <tbody>\n",
       "    <tr>\n",
       "      <th>995</th>\n",
       "      <td>27.756518</td>\n",
       "      <td>1</td>\n",
       "      <td>1060.597490</td>\n",
       "      <td>15.226955</td>\n",
       "      <td>1</td>\n",
       "    </tr>\n",
       "    <tr>\n",
       "      <th>996</th>\n",
       "      <td>21.772909</td>\n",
       "      <td>2</td>\n",
       "      <td>1074.506654</td>\n",
       "      <td>13.431873</td>\n",
       "      <td>1</td>\n",
       "    </tr>\n",
       "    <tr>\n",
       "      <th>997</th>\n",
       "      <td>17.634505</td>\n",
       "      <td>1</td>\n",
       "      <td>1086.760456</td>\n",
       "      <td>12.190352</td>\n",
       "      <td>1</td>\n",
       "    </tr>\n",
       "    <tr>\n",
       "      <th>998</th>\n",
       "      <td>42.646958</td>\n",
       "      <td>2</td>\n",
       "      <td>1109.019239</td>\n",
       "      <td>19.694087</td>\n",
       "      <td>0</td>\n",
       "    </tr>\n",
       "    <tr>\n",
       "      <th>999</th>\n",
       "      <td>30.525910</td>\n",
       "      <td>2</td>\n",
       "      <td>1126.429603</td>\n",
       "      <td>16.057773</td>\n",
       "      <td>1</td>\n",
       "    </tr>\n",
       "  </tbody>\n",
       "</table>\n",
       "</div>"
      ],
      "text/plain": [
       "           age  gender  actual_arrival_time  service_time  position\n",
       "995  27.756518       1          1060.597490     15.226955         1\n",
       "996  21.772909       2          1074.506654     13.431873         1\n",
       "997  17.634505       1          1086.760456     12.190352         1\n",
       "998  42.646958       2          1109.019239     19.694087         0\n",
       "999  30.525910       2          1126.429603     16.057773         1"
      ]
     },
     "execution_count": 4,
     "metadata": {},
     "output_type": "execute_result"
    }
   ],
   "source": [
    "df.tail()"
   ]
  },
  {
   "cell_type": "code",
   "execution_count": 5,
   "metadata": {},
   "outputs": [],
   "source": [
    "def get_samples(df):\n",
    "    for i in range(len(df)):\n",
    "        x = {\n",
    "            'age': int(df.iloc[i]['age']),\n",
    "            'gender': int(df.iloc[i]['gender']),\n",
    "            'actual_arrival_time': float(df.iloc[i]['actual_arrival_time']),\n",
    "            'position': int(df.iloc[i]['position']),\n",
    "        }\n",
    "        y = df.iloc[i]['service_time']\n",
    "        yield x, y"
   ]
  },
  {
   "cell_type": "code",
   "execution_count": 10,
   "metadata": {},
   "outputs": [],
   "source": [
    "metric = metrics.Accuracy()\n",
    "\n",
    "for x, y in get_samples(df.iloc[:900, :]):\n",
    "    y_pred = model.predict_one(x)\n",
    "    model.learn_one(x, y)\n",
    "    metric.update(y, y_pred)"
   ]
  },
  {
   "cell_type": "code",
   "execution_count": 22,
   "metadata": {},
   "outputs": [],
   "source": [
    "with open('model.sav', 'wb') as fh:\n",
    "        pickle.dump(model, fh)"
   ]
  },
  {
   "cell_type": "code",
   "execution_count": 23,
   "metadata": {},
   "outputs": [],
   "source": [
    "pickle_off = open (\"model.sav\", \"rb\")\n",
    "model = pickle.load(pickle_off)"
   ]
  },
  {
   "cell_type": "code",
   "execution_count": 24,
   "metadata": {},
   "outputs": [],
   "source": [
    "x = {'age': 34, 'actual_arrival_time': 0, 'position': 2, 'gender': 1}"
   ]
  },
  {
   "cell_type": "code",
   "execution_count": 25,
   "metadata": {},
   "outputs": [
    {
     "data": {
      "text/plain": [
       "17.268544729462796"
      ]
     },
     "execution_count": 25,
     "metadata": {},
     "output_type": "execute_result"
    }
   ],
   "source": [
    "model.predict_one(x)"
   ]
  },
  {
   "cell_type": "code",
   "execution_count": 7,
   "metadata": {},
   "outputs": [],
   "source": [
    "# Accuracy Determination\n",
    "from sklearn.metrics import mean_squared_error"
   ]
  },
  {
   "cell_type": "code",
   "execution_count": 11,
   "metadata": {},
   "outputs": [
    {
     "data": {
      "text/plain": [
       "0.08741435033197024"
      ]
     },
     "execution_count": 11,
     "metadata": {},
     "output_type": "execute_result"
    }
   ],
   "source": [
    "y_true, y_pred = [], []\n",
    "for x, y in get_samples(df.iloc[:-100, :]):\n",
    "    y_pred_ = model.predict_one(x)\n",
    "    y_true.append(y)\n",
    "    y_pred.append(y_pred_)\n",
    "    \n",
    "mean_squared_error(y_true, y_pred, squared=False)"
   ]
  },
  {
   "cell_type": "code",
   "execution_count": null,
   "metadata": {},
   "outputs": [],
   "source": []
  }
 ],
 "metadata": {
  "kernelspec": {
   "display_name": "Python 3",
   "language": "python",
   "name": "python3"
  },
  "language_info": {
   "codemirror_mode": {
    "name": "ipython",
    "version": 3
   },
   "file_extension": ".py",
   "mimetype": "text/x-python",
   "name": "python",
   "nbconvert_exporter": "python",
   "pygments_lexer": "ipython3",
   "version": "3.8.3"
  }
 },
 "nbformat": 4,
 "nbformat_minor": 4
}
