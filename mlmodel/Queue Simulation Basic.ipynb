{
 "cells": [
  {
   "cell_type": "markdown",
   "metadata": {},
   "source": [
    "### Implementation of the Algorithm given in [Link](http://pages.cs.wisc.edu/~dsmyers/cs547/simulation_handout.pdf)"
   ]
  },
  {
   "cell_type": "code",
   "execution_count": 1,
   "metadata": {},
   "outputs": [],
   "source": [
    "import numpy as np\n",
    "from scipy import stats\n",
    "import matplotlib.pyplot as plt\n",
    "import pandas as pd\n",
    "import random"
   ]
  },
  {
   "cell_type": "code",
   "execution_count": 16,
   "metadata": {},
   "outputs": [],
   "source": [
    "N = 1000                     # Number of patients in this session \n",
    "arrival_mean = 20          # arrival time mean\n",
    "arrival_std_dev = 4        # arrival time std deviation\n",
    "service_mean = 18         # service time mean\n",
    "service_std_dev = 3         # service time std deviation\n",
    "\n",
    "age_mean = 37\n",
    "age_std_dev = 10  \n",
    "\n",
    "# using inverseCDF method to generate random values\n",
    "q = np.random.rand(N)\n",
    "inter_arrival_time = stats.norm.ppf(q, \n",
    "                                    loc=arrival_mean, \n",
    "                                    scale=arrival_std_dev)\n",
    "service_time = stats.norm.ppf(q, \n",
    "                              loc=service_mean, \n",
    "                              scale=service_std_dev)\n",
    "\n",
    "age = stats.norm.ppf(q, \n",
    "                      loc=age_mean, \n",
    "                      scale=age_std_dev)\n",
    "\n",
    "gender = np.random.choice([1, 2, 3], N, p=[0.4, 0.5, 0.1])\n",
    "\n",
    "\n",
    "actual_arrival_time = [inter_arrival_time[0]]\n",
    "enter_service = [actual_arrival_time[0]]\n",
    "completion = [enter_service[0] + service_time[0]]\n",
    "\n",
    "# Actual Generation\n",
    "for i in range(1, N):\n",
    "    actual_arrival_time.append(actual_arrival_time[i-1] + inter_arrival_time[i])\n",
    "    enter_service.append(max(actual_arrival_time[i], completion[i-1]))\n",
    "    completion.append(enter_service[i] + service_time[i])\n"
   ]
  },
  {
   "cell_type": "code",
   "execution_count": 17,
   "metadata": {},
   "outputs": [
    {
     "name": "stderr",
     "output_type": "stream",
     "text": [
      "<ipython-input-17-93a30468695a>:16: UserWarning: Boolean Series key will be reindexed to match DataFrame index.\n",
      "  df[df['actual_arrival_time'] < arrival_time][df['completion'] > arrival_time]\n"
     ]
    }
   ],
   "source": [
    "df = {\n",
    "    'age': age,\n",
    "    'gender': gender,\n",
    "#     'inter_arrival': inter_arrival_time,\n",
    "    'actual_arrival_time': actual_arrival_time,\n",
    "    'enter_service': enter_service,\n",
    "    'service_time': service_time,\n",
    "    'completion': completion,\n",
    "}\n",
    "df = pd.DataFrame(df)\n",
    "df['wait_time'] = df['enter_service'] - df['actual_arrival_time']\n",
    "position = []\n",
    "for i in range(N):\n",
    "    arrival_time = df.iloc[i].actual_arrival_time\n",
    "    position.append(len(\n",
    "       df[df['actual_arrival_time'] < arrival_time][df['completion'] > arrival_time]\n",
    "    ))\n",
    "df['position'] = position"
   ]
  },
  {
   "cell_type": "code",
   "execution_count": 18,
   "metadata": {},
   "outputs": [
    {
     "data": {
      "text/plain": [
       "<matplotlib.collections.PathCollection at 0x7f3ff3b7bc70>"
      ]
     },
     "execution_count": 18,
     "metadata": {},
     "output_type": "execute_result"
    },
    {
     "data": {
      "image/png": "[encoded data removed]",
      "text/plain": [
       "<Figure size 432x288 with 1 Axes>"
      ]
     },
     "metadata": {
      "needs_background": "light"
     },
     "output_type": "display_data"
    }
   ],
   "source": [
    "plt.scatter(range(len(df['wait_time'])), df['wait_time'])"
   ]
  },
  {
   "cell_type": "code",
   "execution_count": 19,
   "metadata": {},
   "outputs": [
    {
     "data": {
      "text/plain": [
       "(array([  8.,  47., 112., 186., 226., 215., 130.,  52.,  19.,   5.]),\n",
       " array([ 9.68308208, 11.4484265 , 13.21377091, 14.97911532, 16.74445974,\n",
       "        18.50980415, 20.27514856, 22.04049298, 23.80583739, 25.57118181,\n",
       "        27.33652622]),\n",
       " <a list of 10 Patch objects>)"
      ]
     },
     "execution_count": 19,
     "metadata": {},
     "output_type": "execute_result"
    },
    {
     "data": {
      "image/png": "[encoded data removed]",
      "text/plain": [
       "<Figure size 432x288 with 1 Axes>"
      ]
     },
     "metadata": {
      "needs_background": "light"
     },
     "output_type": "display_data"
    }
   ],
   "source": [
    "plt.hist(df['service_time'])"
   ]
  },
  {
   "cell_type": "code",
   "execution_count": 20,
   "metadata": {},
   "outputs": [
    {
     "name": "stdout",
     "output_type": "stream",
     "text": [
      "Average Wait time: 1.5040186922798788\n",
      "Maximum Wait time: 15.016551160362724\n"
     ]
    }
   ],
   "source": [
    "max_wait_time = max(df['wait_time'])\n",
    "avg_wait_time = np.mean(df['wait_time'])\n",
    "\n",
    "print(f\"Average Wait time: {avg_wait_time}\")\n",
    "print(f\"Maximum Wait time: {max_wait_time}\")"
   ]
  },
  {
   "cell_type": "code",
   "execution_count": 21,
   "metadata": {},
   "outputs": [
    {
     "data": {
      "text/html": [
       "<div>\n",
       "<style scoped>\n",
       "    .dataframe tbody tr th:only-of-type {\n",
       "        vertical-align: middle;\n",
       "    }\n",
       "\n",
       "    .dataframe tbody tr th {\n",
       "        vertical-align: top;\n",
       "    }\n",
       "\n",
       "    .dataframe thead th {\n",
       "        text-align: right;\n",
       "    }\n",
       "</style>\n",
       "<table border=\"1\" class=\"dataframe\">\n",
       "  <thead>\n",
       "    <tr style=\"text-align: right;\">\n",
       "      <th></th>\n",
       "      <th>age</th>\n",
       "      <th>gender</th>\n",
       "      <th>actual_arrival_time</th>\n",
       "      <th>enter_service</th>\n",
       "      <th>service_time</th>\n",
       "      <th>completion</th>\n",
       "      <th>wait_time</th>\n",
       "      <th>position</th>\n",
       "    </tr>\n",
       "  </thead>\n",
       "  <tbody>\n",
       "    <tr>\n",
       "      <th>0</th>\n",
       "      <td>35.283297</td>\n",
       "      <td>1</td>\n",
       "      <td>19.313319</td>\n",
       "      <td>19.313319</td>\n",
       "      <td>17.484989</td>\n",
       "      <td>36.798308</td>\n",
       "      <td>0.000000</td>\n",
       "      <td>0</td>\n",
       "    </tr>\n",
       "    <tr>\n",
       "      <th>1</th>\n",
       "      <td>56.510351</td>\n",
       "      <td>1</td>\n",
       "      <td>47.117459</td>\n",
       "      <td>47.117459</td>\n",
       "      <td>23.853105</td>\n",
       "      <td>70.970564</td>\n",
       "      <td>0.000000</td>\n",
       "      <td>0</td>\n",
       "    </tr>\n",
       "    <tr>\n",
       "      <th>2</th>\n",
       "      <td>40.431961</td>\n",
       "      <td>1</td>\n",
       "      <td>68.490244</td>\n",
       "      <td>70.970564</td>\n",
       "      <td>19.029588</td>\n",
       "      <td>90.000153</td>\n",
       "      <td>2.480321</td>\n",
       "      <td>1</td>\n",
       "    </tr>\n",
       "    <tr>\n",
       "      <th>3</th>\n",
       "      <td>47.900456</td>\n",
       "      <td>2</td>\n",
       "      <td>92.850426</td>\n",
       "      <td>92.850426</td>\n",
       "      <td>21.270137</td>\n",
       "      <td>114.120562</td>\n",
       "      <td>0.000000</td>\n",
       "      <td>0</td>\n",
       "    </tr>\n",
       "    <tr>\n",
       "      <th>4</th>\n",
       "      <td>34.160123</td>\n",
       "      <td>2</td>\n",
       "      <td>111.714475</td>\n",
       "      <td>114.120562</td>\n",
       "      <td>17.148037</td>\n",
       "      <td>131.268599</td>\n",
       "      <td>2.406088</td>\n",
       "      <td>1</td>\n",
       "    </tr>\n",
       "  </tbody>\n",
       "</table>\n",
       "</div>"
      ],
      "text/plain": [
       "         age  gender  actual_arrival_time  enter_service  service_time  \\\n",
       "0  35.283297       1            19.313319      19.313319     17.484989   \n",
       "1  56.510351       1            47.117459      47.117459     23.853105   \n",
       "2  40.431961       1            68.490244      70.970564     19.029588   \n",
       "3  47.900456       2            92.850426      92.850426     21.270137   \n",
       "4  34.160123       2           111.714475     114.120562     17.148037   \n",
       "\n",
       "   completion  wait_time  position  \n",
       "0   36.798308   0.000000         0  \n",
       "1   70.970564   0.000000         0  \n",
       "2   90.000153   2.480321         1  \n",
       "3  114.120562   0.000000         0  \n",
       "4  131.268599   2.406088         1  "
      ]
     },
     "execution_count": 21,
     "metadata": {},
     "output_type": "execute_result"
    }
   ],
   "source": [
    "df.head()"
   ]
  },
  {
   "cell_type": "code",
   "execution_count": 22,
   "metadata": {},
   "outputs": [],
   "source": [
    "df.drop(['enter_service', 'completion', 'wait_time'], axis=1, inplace=True)"
   ]
  },
  {
   "cell_type": "code",
   "execution_count": 23,
   "metadata": {},
   "outputs": [],
   "source": [
    "df.to_csv('training.csv')"
   ]
  }
 ],
 "metadata": {
  "kernelspec": {
   "display_name": "Python 3",
   "language": "python",
   "name": "python3"
  },
  "language_info": {
   "codemirror_mode": {
    "name": "ipython",
    "version": 3
   },
   "file_extension": ".py",
   "mimetype": "text/x-python",
   "name": "python",
   "nbconvert_exporter": "python",
   "pygments_lexer": "ipython3",
   "version": "3.8.3"
  }
 },
 "nbformat": 4,
 "nbformat_minor": 4
}
