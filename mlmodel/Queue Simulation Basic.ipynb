{
 "cells": [
  {
   "cell_type": "markdown",
   "metadata": {},
   "source": [
    "### Implementation of the Algorithm given in [Link](http://pages.cs.wisc.edu/~dsmyers/cs547/simulation_handout.pdf)"
   ]
  },
  {
   "cell_type": "code",
   "execution_count": 3,
   "metadata": {},
   "outputs": [],
   "source": [
    "import numpy as np\n",
    "from scipy import stats\n",
    "import matplotlib.pyplot as plt\n",
    "import pandas as pd\n",
    "import random"
   ]
  },
  {
   "cell_type": "code",
   "execution_count": 4,
   "metadata": {},
   "outputs": [],
   "source": [
    "N = 500                     # Number of patients in this session \n",
    "arrival_mean = 10          # arrival time mean\n",
    "arrival_std_dev = 4        # arrival time std deviation\n",
    "service_mean = 10         # service time mean\n",
    "service_std_dev = 3         # service time std deviation\n",
    "\n",
    "age_mean = 37\n",
    "age_std_dev = 10  \n",
    "\n",
    "# using inverseCDF method to generate random values\n",
    "q = np.random.rand(N)\n",
    "inter_arrival_time = stats.norm.ppf(q, \n",
    "                                    loc=arrival_mean, \n",
    "                                    scale=arrival_std_dev)\n",
    "service_time = stats.norm.ppf(q, \n",
    "                              loc=service_mean, \n",
    "                              scale=service_std_dev)\n",
    "\n",
    "age = stats.norm.ppf(q, \n",
    "                      loc=age_mean, \n",
    "                      scale=age_std_dev)\n",
    "\n",
    "gender = np.random.choice([1, 2, 3], N, p=[0.4, 0.5, 0.1])\n",
    "\n",
    "\n",
    "actual_arrival_time = [inter_arrival_time[0]]\n",
    "enter_service = [actual_arrival_time[0]]\n",
    "completion = [enter_service[0] + service_time[0]]\n",
    "\n",
    "# Actual Generation\n",
    "for i in range(1, N):\n",
    "    actual_arrival_time.append(actual_arrival_time[i-1] + inter_arrival_time[i])\n",
    "    enter_service.append(max(actual_arrival_time[i], completion[i-1]))\n",
    "    completion.append(enter_service[i] + service_time[i])\n"
   ]
  },
  {
   "cell_type": "code",
   "execution_count": 5,
   "metadata": {},
   "outputs": [
    {
     "name": "stderr",
     "output_type": "stream",
     "text": [
      "<ipython-input-5-5e6cd576c6ef>:16: UserWarning: Boolean Series key will be reindexed to match DataFrame index.\n",
      "  df[df['actual_arrival_time'] < arrival_time][df['completion'] > arrival_time]\n"
     ]
    }
   ],
   "source": [
    "df = {\n",
    "    'age': age,\n",
    "    'gender': gender,\n",
    "#     'inter_arrival': inter_arrival_time,\n",
    "    'actual_arrival_time': actual_arrival_time,\n",
    "    'enter_service': enter_service,\n",
    "#     'service_time': service_time,\n",
    "    'completion': completion,\n",
    "}\n",
    "df = pd.DataFrame(df)\n",
    "df['wait_time'] = df['enter_service'] - df['actual_arrival_time']\n",
    "position = []\n",
    "for i in range(N):\n",
    "    arrival_time = df.iloc[i].actual_arrival_time\n",
    "    position.append(len(\n",
    "       df[df['actual_arrival_time'] < arrival_time][df['completion'] > arrival_time]\n",
    "    ))\n",
    "df['position'] = position"
   ]
  },
  {
   "cell_type": "code",
   "execution_count": 6,
   "metadata": {},
   "outputs": [
    {
     "data": {
      "text/plain": [
       "<matplotlib.collections.PathCollection at 0x7f499f692940>"
      ]
     },
     "execution_count": 6,
     "metadata": {},
     "output_type": "execute_result"
    },
    {
     "data": {
      "image/png": "[encoded data removed]",
      "text/plain": [
       "<Figure size 432x288 with 1 Axes>"
      ]
     },
     "metadata": {
      "needs_background": "light"
     },
     "output_type": "display_data"
    }
   ],
   "source": [
    "plt.scatter(range(len(df['wait_time'])), df['wait_time'])"
   ]
  },
  {
   "cell_type": "code",
   "execution_count": 7,
   "metadata": {},
   "outputs": [
    {
     "name": "stdout",
     "output_type": "stream",
     "text": [
      "Average Wait time: 19.829771303151283\n",
      "Maximum Wait time: 42.28547669960699\n"
     ]
    }
   ],
   "source": [
    "max_wait_time = max(df['wait_time'])\n",
    "avg_wait_time = np.mean(df['wait_time'])\n",
    "\n",
    "print(f\"Average Wait time: {avg_wait_time}\")\n",
    "print(f\"Maximum Wait time: {max_wait_time}\")"
   ]
  },
  {
   "cell_type": "code",
   "execution_count": 10,
   "metadata": {},
   "outputs": [
    {
     "data": {
      "text/html": [
       "<div>\n",
       "<style scoped>\n",
       "    .dataframe tbody tr th:only-of-type {\n",
       "        vertical-align: middle;\n",
       "    }\n",
       "\n",
       "    .dataframe tbody tr th {\n",
       "        vertical-align: top;\n",
       "    }\n",
       "\n",
       "    .dataframe thead th {\n",
       "        text-align: right;\n",
       "    }\n",
       "</style>\n",
       "<table border=\"1\" class=\"dataframe\">\n",
       "  <thead>\n",
       "    <tr style=\"text-align: right;\">\n",
       "      <th></th>\n",
       "      <th>age</th>\n",
       "      <th>gender</th>\n",
       "      <th>actual_arrival_time</th>\n",
       "      <th>wait_time</th>\n",
       "      <th>position</th>\n",
       "    </tr>\n",
       "  </thead>\n",
       "  <tbody>\n",
       "    <tr>\n",
       "      <th>0</th>\n",
       "      <td>32.404097</td>\n",
       "      <td>1</td>\n",
       "      <td>8.161639</td>\n",
       "      <td>0.000000</td>\n",
       "      <td>0</td>\n",
       "    </tr>\n",
       "    <tr>\n",
       "      <th>1</th>\n",
       "      <td>38.012692</td>\n",
       "      <td>2</td>\n",
       "      <td>18.566716</td>\n",
       "      <td>0.000000</td>\n",
       "      <td>0</td>\n",
       "    </tr>\n",
       "    <tr>\n",
       "      <th>2</th>\n",
       "      <td>25.148214</td>\n",
       "      <td>1</td>\n",
       "      <td>23.826001</td>\n",
       "      <td>5.044522</td>\n",
       "      <td>1</td>\n",
       "    </tr>\n",
       "    <tr>\n",
       "      <th>3</th>\n",
       "      <td>38.498381</td>\n",
       "      <td>2</td>\n",
       "      <td>34.425354</td>\n",
       "      <td>0.889634</td>\n",
       "      <td>1</td>\n",
       "    </tr>\n",
       "    <tr>\n",
       "      <th>4</th>\n",
       "      <td>25.521818</td>\n",
       "      <td>3</td>\n",
       "      <td>39.834081</td>\n",
       "      <td>5.930421</td>\n",
       "      <td>1</td>\n",
       "    </tr>\n",
       "  </tbody>\n",
       "</table>\n",
       "</div>"
      ],
      "text/plain": [
       "         age  gender  actual_arrival_time  wait_time  position\n",
       "0  32.404097       1             8.161639   0.000000         0\n",
       "1  38.012692       2            18.566716   0.000000         0\n",
       "2  25.148214       1            23.826001   5.044522         1\n",
       "3  38.498381       2            34.425354   0.889634         1\n",
       "4  25.521818       3            39.834081   5.930421         1"
      ]
     },
     "execution_count": 10,
     "metadata": {},
     "output_type": "execute_result"
    }
   ],
   "source": [
    "df.head()"
   ]
  },
  {
   "cell_type": "code",
   "execution_count": 9,
   "metadata": {},
   "outputs": [],
   "source": [
    "df.drop(['enter_service', 'completion'], axis=1, inplace=True)"
   ]
  },
  {
   "cell_type": "code",
   "execution_count": 11,
   "metadata": {},
   "outputs": [],
   "source": [
    "df.to_csv('training.csv')"
   ]
  },
  {
   "cell_type": "code",
   "execution_count": null,
   "metadata": {},
   "outputs": [],
   "source": []
  }
 ],
 "metadata": {
  "kernelspec": {
   "display_name": "Python 3",
   "language": "python",
   "name": "python3"
  },
  "language_info": {
   "codemirror_mode": {
    "name": "ipython",
    "version": 3
   },
   "file_extension": ".py",
   "mimetype": "text/x-python",
   "name": "python",
   "nbconvert_exporter": "python",
   "pygments_lexer": "ipython3",
   "version": "3.8.3"
  }
 },
 "nbformat": 4,
 "nbformat_minor": 4
}
